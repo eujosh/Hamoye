{
  "cells": [
    {
      "cell_type": "markdown",
      "metadata": {
        "_cell_guid": "081f9e1f-3b99-29c6-917a-f8b1c902a7a3",
        "id": "pOLHkqqUtDrD"
      },
      "source": [
        "Output:\n",
        "\n",
        "*   A sample submission using simple Keras CNN\n",
        "*   Predicted probability and truth labels for use in Best Threshold finding\n",
        "\n",
        "To-do: Improve efficiency with multiprocessing from Blending Code"
      ]
    },
    {
      "cell_type": "code",
      "execution_count": 1,
      "metadata": {
        "_cell_guid": "38875a27-ad3d-ac67-5ba8-10adc2ece94d",
        "id": "6cFEk1DztDrH"
      },
      "outputs": [],
      "source": [
        "\n",
        "import numpy as np \n",
        "import pandas as pd \n",
        "import os\n",
        "import gc\n",
        "\n",
        "import keras as k\n",
        "from keras.models import Sequential\n",
        "from keras.layers import Dense, Dropout, Flatten\n",
        "from keras.layers import Conv2D, MaxPooling2D\n",
        "\n",
        "import cv2\n",
        "from tqdm import tqdm\n",
        "\n",
        "from multiprocessing import Pool, cpu_count\n",
        "from subprocess import check_output"
      ]
    },
    {
      "cell_type": "code",
      "source": [
        "from google.colab import files\n",
        "uploaded = files.upload()"
      ],
      "metadata": {
        "colab": {
          "base_uri": "https://localhost:8080/",
          "height": 212
        },
        "id": "CdpK8tyutNwt",
        "outputId": "b591e223-8fad-4261-fb41-fdd0240e4ddc"
      },
      "execution_count": 2,
      "outputs": [
        {
          "output_type": "display_data",
          "data": {
            "text/plain": [
              "<IPython.core.display.HTML object>"
            ],
            "text/html": [
              "\n",
              "     <input type=\"file\" id=\"files-86ec30fe-ec86-4b69-8688-9672d4ab77c3\" name=\"files[]\" multiple disabled\n",
              "        style=\"border:none\" />\n",
              "     <output id=\"result-86ec30fe-ec86-4b69-8688-9672d4ab77c3\">\n",
              "      Upload widget is only available when the cell has been executed in the\n",
              "      current browser session. Please rerun this cell to enable.\n",
              "      </output>\n",
              "      <script>// Copyright 2017 Google LLC\n",
              "//\n",
              "// Licensed under the Apache License, Version 2.0 (the \"License\");\n",
              "// you may not use this file except in compliance with the License.\n",
              "// You may obtain a copy of the License at\n",
              "//\n",
              "//      http://www.apache.org/licenses/LICENSE-2.0\n",
              "//\n",
              "// Unless required by applicable law or agreed to in writing, software\n",
              "// distributed under the License is distributed on an \"AS IS\" BASIS,\n",
              "// WITHOUT WARRANTIES OR CONDITIONS OF ANY KIND, either express or implied.\n",
              "// See the License for the specific language governing permissions and\n",
              "// limitations under the License.\n",
              "\n",
              "/**\n",
              " * @fileoverview Helpers for google.colab Python module.\n",
              " */\n",
              "(function(scope) {\n",
              "function span(text, styleAttributes = {}) {\n",
              "  const element = document.createElement('span');\n",
              "  element.textContent = text;\n",
              "  for (const key of Object.keys(styleAttributes)) {\n",
              "    element.style[key] = styleAttributes[key];\n",
              "  }\n",
              "  return element;\n",
              "}\n",
              "\n",
              "// Max number of bytes which will be uploaded at a time.\n",
              "const MAX_PAYLOAD_SIZE = 100 * 1024;\n",
              "\n",
              "function _uploadFiles(inputId, outputId) {\n",
              "  const steps = uploadFilesStep(inputId, outputId);\n",
              "  const outputElement = document.getElementById(outputId);\n",
              "  // Cache steps on the outputElement to make it available for the next call\n",
              "  // to uploadFilesContinue from Python.\n",
              "  outputElement.steps = steps;\n",
              "\n",
              "  return _uploadFilesContinue(outputId);\n",
              "}\n",
              "\n",
              "// This is roughly an async generator (not supported in the browser yet),\n",
              "// where there are multiple asynchronous steps and the Python side is going\n",
              "// to poll for completion of each step.\n",
              "// This uses a Promise to block the python side on completion of each step,\n",
              "// then passes the result of the previous step as the input to the next step.\n",
              "function _uploadFilesContinue(outputId) {\n",
              "  const outputElement = document.getElementById(outputId);\n",
              "  const steps = outputElement.steps;\n",
              "\n",
              "  const next = steps.next(outputElement.lastPromiseValue);\n",
              "  return Promise.resolve(next.value.promise).then((value) => {\n",
              "    // Cache the last promise value to make it available to the next\n",
              "    // step of the generator.\n",
              "    outputElement.lastPromiseValue = value;\n",
              "    return next.value.response;\n",
              "  });\n",
              "}\n",
              "\n",
              "/**\n",
              " * Generator function which is called between each async step of the upload\n",
              " * process.\n",
              " * @param {string} inputId Element ID of the input file picker element.\n",
              " * @param {string} outputId Element ID of the output display.\n",
              " * @return {!Iterable<!Object>} Iterable of next steps.\n",
              " */\n",
              "function* uploadFilesStep(inputId, outputId) {\n",
              "  const inputElement = document.getElementById(inputId);\n",
              "  inputElement.disabled = false;\n",
              "\n",
              "  const outputElement = document.getElementById(outputId);\n",
              "  outputElement.innerHTML = '';\n",
              "\n",
              "  const pickedPromise = new Promise((resolve) => {\n",
              "    inputElement.addEventListener('change', (e) => {\n",
              "      resolve(e.target.files);\n",
              "    });\n",
              "  });\n",
              "\n",
              "  const cancel = document.createElement('button');\n",
              "  inputElement.parentElement.appendChild(cancel);\n",
              "  cancel.textContent = 'Cancel upload';\n",
              "  const cancelPromise = new Promise((resolve) => {\n",
              "    cancel.onclick = () => {\n",
              "      resolve(null);\n",
              "    };\n",
              "  });\n",
              "\n",
              "  // Wait for the user to pick the files.\n",
              "  const files = yield {\n",
              "    promise: Promise.race([pickedPromise, cancelPromise]),\n",
              "    response: {\n",
              "      action: 'starting',\n",
              "    }\n",
              "  };\n",
              "\n",
              "  cancel.remove();\n",
              "\n",
              "  // Disable the input element since further picks are not allowed.\n",
              "  inputElement.disabled = true;\n",
              "\n",
              "  if (!files) {\n",
              "    return {\n",
              "      response: {\n",
              "        action: 'complete',\n",
              "      }\n",
              "    };\n",
              "  }\n",
              "\n",
              "  for (const file of files) {\n",
              "    const li = document.createElement('li');\n",
              "    li.append(span(file.name, {fontWeight: 'bold'}));\n",
              "    li.append(span(\n",
              "        `(${file.type || 'n/a'}) - ${file.size} bytes, ` +\n",
              "        `last modified: ${\n",
              "            file.lastModifiedDate ? file.lastModifiedDate.toLocaleDateString() :\n",
              "                                    'n/a'} - `));\n",
              "    const percent = span('0% done');\n",
              "    li.appendChild(percent);\n",
              "\n",
              "    outputElement.appendChild(li);\n",
              "\n",
              "    const fileDataPromise = new Promise((resolve) => {\n",
              "      const reader = new FileReader();\n",
              "      reader.onload = (e) => {\n",
              "        resolve(e.target.result);\n",
              "      };\n",
              "      reader.readAsArrayBuffer(file);\n",
              "    });\n",
              "    // Wait for the data to be ready.\n",
              "    let fileData = yield {\n",
              "      promise: fileDataPromise,\n",
              "      response: {\n",
              "        action: 'continue',\n",
              "      }\n",
              "    };\n",
              "\n",
              "    // Use a chunked sending to avoid message size limits. See b/62115660.\n",
              "    let position = 0;\n",
              "    do {\n",
              "      const length = Math.min(fileData.byteLength - position, MAX_PAYLOAD_SIZE);\n",
              "      const chunk = new Uint8Array(fileData, position, length);\n",
              "      position += length;\n",
              "\n",
              "      const base64 = btoa(String.fromCharCode.apply(null, chunk));\n",
              "      yield {\n",
              "        response: {\n",
              "          action: 'append',\n",
              "          file: file.name,\n",
              "          data: base64,\n",
              "        },\n",
              "      };\n",
              "\n",
              "      let percentDone = fileData.byteLength === 0 ?\n",
              "          100 :\n",
              "          Math.round((position / fileData.byteLength) * 100);\n",
              "      percent.textContent = `${percentDone}% done`;\n",
              "\n",
              "    } while (position < fileData.byteLength);\n",
              "  }\n",
              "\n",
              "  // All done.\n",
              "  yield {\n",
              "    response: {\n",
              "      action: 'complete',\n",
              "    }\n",
              "  };\n",
              "}\n",
              "\n",
              "scope.google = scope.google || {};\n",
              "scope.google.colab = scope.google.colab || {};\n",
              "scope.google.colab._files = {\n",
              "  _uploadFiles,\n",
              "  _uploadFilesContinue,\n",
              "};\n",
              "})(self);\n",
              "</script> "
            ]
          },
          "metadata": {}
        },
        {
          "output_type": "stream",
          "name": "stdout",
          "text": [
            "Saving sample_submission_v2.csv to sample_submission_v2.csv\n",
            "Saving test_v2_file_mapping.csv to test_v2_file_mapping.csv\n",
            "Saving test-jpg-v2.tar to test-jpg-v2.tar\n",
            "Saving train_v2.csv to train_v2.csv\n",
            "Saving train-jpg.tar to train-jpg.tar\n"
          ]
        }
      ]
    },
    {
      "cell_type": "code",
      "execution_count": null,
      "metadata": {
        "_cell_guid": "81313a87-02c0-f95d-b430-28acd843335a",
        "id": "e_hOV-mdtDrJ",
        "outputId": "6dce5740-8d84-4a5e-9ea0-0ee504cc55ce"
      },
      "outputs": [
        {
          "name": "stderr",
          "output_type": "stream",
          "text": [
            "100%|██████████| 40479/40479 [00:59<00:00, 680.48it/s]\n"
          ]
        },
        {
          "name": "stdout",
          "output_type": "stream",
          "text": [
            "(40479, 32, 32, 3)\n",
            "(40479, 17)\n"
          ]
        }
      ],
      "source": [
        "x_train0 = []\n",
        "x_test0 = []\n",
        "y_train0 = []\n",
        "\n",
        "df_train = pd.read_csv('train_v2.csv')\n",
        "\n",
        "labels = df_train['tags'].str.get_dummies(sep=' ').columns\n",
        "\n",
        "label_map = {l: i for i, l in enumerate(labels)}\n",
        "inv_label_map = {i: l for l, i in label_map.items()}\n",
        "\n",
        "for f, tags in tqdm(df_train.values, miniters=1000):\n",
        "    img = cv2.imread('train-jpg/{}.jpg'.format(f))\n",
        "    targets = np.zeros(17)\n",
        "    for t in tags.split(' '):\n",
        "        targets[label_map[t]] = 1 \n",
        "    x_train0.append(cv2.resize(img, (32, 32)))\n",
        "    y_train0.append(targets)\n",
        "    \n",
        "y_train0 = np.array(y_train0, np.uint8)\n",
        "x_train0 = np.array(x_train0, np.float16) / 255.\n",
        "\n",
        "print(x_train0.shape)\n",
        "print(y_train0.shape)"
      ]
    },
    {
      "cell_type": "code",
      "execution_count": null,
      "metadata": {
        "_cell_guid": "184522a5-9713-33a9-84e6-4b60d1dc4e65",
        "id": "PfrWq0JotDrL",
        "outputId": "7f39ed3c-361a-40d3-94e3-eaad8fa61d4b"
      },
      "outputs": [
        {
          "name": "stderr",
          "output_type": "stream",
          "text": [
            "100%|██████████| 61191/61191 [01:32<00:00, 659.22it/s]\n"
          ]
        }
      ],
      "source": [
        "df_test = pd.read_csv('sample_submission_v2.csv')\n",
        "\n",
        "for f, tags in tqdm(df_test.values, miniters=1000):\n",
        "    img = cv2.imread('test-jpg-v2/{}.jpg'.format(f))\n",
        "    targets = np.zeros(17)\n",
        "    for t in tags.split(' '):\n",
        "        targets[label_map[t]] = 1 \n",
        "    x_test0.append(cv2.resize(img, (32, 32)))\n",
        "    \n",
        "x_test0 = np.array(x_test0, np.float16) / 255."
      ]
    },
    {
      "cell_type": "code",
      "execution_count": null,
      "metadata": {
        "_cell_guid": "c04ef59b-f97d-8f87-6252-d98c493f90e6",
        "id": "7-x3SbBBtDrM",
        "outputId": "b70b2f26-50f7-4219-8f7b-d6ad1103a2c9"
      },
      "outputs": [
        {
          "name": "stdout",
          "output_type": "stream",
          "text": [
            "Train on 35000 samples, validate on 5479 samples\n",
            "Epoch 1/3\n",
            "35000/35000 [==============================] - 227s - loss: 0.2500 - acc: 0.9045 - val_loss: 0.1994 - val_acc: 0.9206\n",
            "Epoch 2/3\n",
            "35000/35000 [==============================] - 229s - loss: 0.2040 - acc: 0.9204 - val_loss: 0.1807 - val_acc: 0.9278\n",
            "Epoch 3/3\n",
            "35000/35000 [==============================] - 231s - loss: 0.1910 - acc: 0.9259 - val_loss: 0.1777 - val_acc: 0.9289\n"
          ]
        }
      ],
      "source": [
        "split = 35000\n",
        "x_train, x_valid, y_train, y_valid = x_train0[:split], x_train0[split:], y_train0[:split], y_train0[split:]\n",
        "\n",
        "model = Sequential()\n",
        "model.add(Conv2D(32, kernel_size=(3, 3),\n",
        "                 activation='relu',\n",
        "                 input_shape=(32, 32, 3)))\n",
        "\n",
        "model.add(Conv2D(64, (3, 3), activation='relu'))\n",
        "model.add(MaxPooling2D(pool_size=(2, 2)))\n",
        "model.add(Dropout(0.25))\n",
        "model.add(Flatten())\n",
        "model.add(Dense(128, activation='relu'))\n",
        "model.add(Dropout(0.5))\n",
        "model.add(Dense(17, activation='sigmoid'))\n",
        "\n",
        "model.compile(loss='binary_crossentropy', # We NEED binary here, since categorical_crossentropy l1 norms the output before calculating loss.\n",
        "              optimizer='adam',\n",
        "              metrics=['accuracy'])\n",
        "              \n",
        "model.fit(x_train, y_train,\n",
        "          batch_size=128,\n",
        "          epochs=3,\n",
        "          verbose=1,\n",
        "          validation_data=(x_valid, y_valid))\n",
        "          \n",
        "from sklearn.metrics import fbeta_score\n",
        "\n",
        "p_train = model.predict(x_train0, batch_size=128,verbose=2)\n",
        "p_test = model.predict(x_test0, batch_size=128,verbose=2)\n",
        "# print(fbeta_score(y_valid, np.array(p_valid) > 0.2, beta=2, average='samples'))"
      ]
    },
    {
      "cell_type": "code",
      "execution_count": null,
      "metadata": {
        "_cell_guid": "f27120c4-b6fd-0bf9-f172-264f8310aadc",
        "id": "QsOJHopEtDrN",
        "outputId": "6be8a91d-41ae-4750-f60b-9c42ba596afa"
      },
      "outputs": [
        {
          "name": "stdout",
          "output_type": "stream",
          "text": [
            "Index(['agriculture', 'artisinal_mine', 'bare_ground', 'blooming', 'blow_down',\n",
            "       'clear', 'cloudy', 'conventional_mine', 'cultivation', 'habitation',\n",
            "       'haze', 'partly_cloudy', 'primary', 'road', 'selective_logging',\n",
            "       'slash_burn', 'water'],\n",
            "      dtype='object')\n"
          ]
        }
      ],
      "source": [
        "# Saving predicted probability and ground truth for Train Dataset\n",
        "# Compute the best threshold externally\n",
        "print(labels)\n",
        "chk_output = pd.DataFrame()\n",
        "for index in [1, 2, 3, 4, 5, 6, 7, 8, 9, 10, 11, 12, 13, 14, 15, 16, 17]:\n",
        "    chk_output['class %d' % index] = p_train[:,index-1]\n",
        "chk_output.to_csv('predicted_probability.csv', index=False)\n",
        "for index in [1, 2, 3, 4, 5, 6, 7, 8, 9, 10, 11, 12, 13, 14, 15, 16, 17]:\n",
        "    chk_output['class %d' % index] = y_train0[:,index-1]\n",
        "chk_output.to_csv('true_label.csv', index=False)"
      ]
    },
    {
      "cell_type": "code",
      "execution_count": null,
      "metadata": {
        "_cell_guid": "2c663701-cc97-9d34-b6e9-6a846ddd6ff3",
        "id": "_9FqagFZtDrO",
        "outputId": "156717e6-09c2-4775-eeb0-f60e7347cead"
      },
      "outputs": [
        {
          "name": "stdout",
          "output_type": "stream",
          "text": [
            "[[0 0 0 ..., 0 0 0]\n",
            " [0 0 0 ..., 0 0 0]\n",
            " [1 0 0 ..., 0 0 1]\n",
            " ..., \n",
            " [0 0 0 ..., 0 0 0]\n",
            " [0 0 0 ..., 0 0 0]\n",
            " [1 0 0 ..., 0 0 1]]\n"
          ]
        }
      ],
      "source": [
        "values_test = (p_test > .222222)*1.0        # before multiplying by 1.0, this appears as an array of True and False\n",
        "values_test = np.array(values_test, np.uint8)\n",
        "\n",
        "print(values_test)\n",
        "# Build Submission, using label outputted from long time ago\n",
        "test_labels = []\n",
        "for row in range(values_test.shape[0]):\n",
        "    test_labels.append(' '.join(labels[values_test[row,:]==1]))\n",
        "Submission_PDFModel = df_test.copy()\n",
        "Submission_PDFModel.drop('tags', axis = 1)\n",
        "Submission_PDFModel['tags'] = test_labels\n",
        "Submission_PDFModel.to_csv('submission_hamoye.csv', index = False)"
      ]
    }
  ],
  "metadata": {
    "_change_revision": 6,
    "_is_fork": false,
    "kernelspec": {
      "display_name": "Python 3",
      "language": "python",
      "name": "python3"
    },
    "language_info": {
      "codemirror_mode": {
        "name": "ipython",
        "version": 3
      },
      "file_extension": ".py",
      "mimetype": "text/x-python",
      "name": "python",
      "nbconvert_exporter": "python",
      "pygments_lexer": "ipython3",
      "version": "3.6.0"
    },
    "colab": {
      "provenance": []
    }
  },
  "nbformat": 4,
  "nbformat_minor": 0
}